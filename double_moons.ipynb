{
  "cells": [
    {
      "cell_type": "markdown",
      "metadata": {
        "id": "view-in-github",
        "colab_type": "text"
      },
      "source": [
        "<a href=\"https://colab.research.google.com/github/ATKhakimov/QML/blob/main/double_moons.ipynb\" target=\"_parent\"><img src=\"https://colab.research.google.com/assets/colab-badge.svg\" alt=\"Open In Colab\"/></a>"
      ]
    },
    {
      "cell_type": "code",
      "execution_count": null,
      "metadata": {
        "colab": {
          "base_uri": "https://localhost:8080/"
        },
        "id": "71074304",
        "outputId": "e62bf4f7-d662-44b5-f5a2-2c06e450d0d7"
      },
      "outputs": [
        {
          "output_type": "stream",
          "name": "stdout",
          "text": [
            "Looking in indexes: https://pypi.org/simple, https://us-python.pkg.dev/colab-wheels/public/simple/\n",
            "Collecting pennylane\n",
            "  Downloading PennyLane-0.27.0-py3-none-any.whl (1.1 MB)\n",
            "\u001b[K     |████████████████████████████████| 1.1 MB 8.7 MB/s \n",
            "\u001b[?25hCollecting pennylane-lightning>=0.27\n",
            "  Downloading PennyLane_Lightning-0.27.0-cp37-cp37m-manylinux_2_17_x86_64.manylinux2014_x86_64.whl (15.3 MB)\n",
            "\u001b[K     |████████████████████████████████| 15.3 MB 40.5 MB/s \n",
            "\u001b[?25hRequirement already satisfied: networkx in /usr/local/lib/python3.7/dist-packages (from pennylane) (2.6.3)\n",
            "Requirement already satisfied: numpy in /usr/local/lib/python3.7/dist-packages (from pennylane) (1.21.6)\n",
            "Requirement already satisfied: scipy in /usr/local/lib/python3.7/dist-packages (from pennylane) (1.7.3)\n",
            "Requirement already satisfied: requests in /usr/local/lib/python3.7/dist-packages (from pennylane) (2.23.0)\n",
            "Requirement already satisfied: toml in /usr/local/lib/python3.7/dist-packages (from pennylane) (0.10.2)\n",
            "Requirement already satisfied: cachetools in /usr/local/lib/python3.7/dist-packages (from pennylane) (5.2.0)\n",
            "Collecting semantic-version>=2.7\n",
            "  Downloading semantic_version-2.10.0-py2.py3-none-any.whl (15 kB)\n",
            "Collecting autoray>=0.3.1\n",
            "  Downloading autoray-0.5.2-py3-none-any.whl (39 kB)\n",
            "Requirement already satisfied: autograd in /usr/local/lib/python3.7/dist-packages (from pennylane) (1.5)\n",
            "Requirement already satisfied: appdirs in /usr/local/lib/python3.7/dist-packages (from pennylane) (1.4.4)\n",
            "Collecting retworkx\n",
            "  Downloading retworkx-0.12.1-py3-none-any.whl (10 kB)\n",
            "Collecting ninja\n",
            "  Downloading ninja-1.11.1-py2.py3-none-manylinux_2_12_x86_64.manylinux2010_x86_64.whl (145 kB)\n",
            "\u001b[K     |████████████████████████████████| 145 kB 50.3 MB/s \n",
            "\u001b[?25hRequirement already satisfied: future>=0.15.2 in /usr/local/lib/python3.7/dist-packages (from autograd->pennylane) (0.16.0)\n",
            "Requirement already satisfied: certifi>=2017.4.17 in /usr/local/lib/python3.7/dist-packages (from requests->pennylane) (2022.9.24)\n",
            "Requirement already satisfied: chardet<4,>=3.0.2 in /usr/local/lib/python3.7/dist-packages (from requests->pennylane) (3.0.4)\n",
            "Requirement already satisfied: idna<3,>=2.5 in /usr/local/lib/python3.7/dist-packages (from requests->pennylane) (2.10)\n",
            "Requirement already satisfied: urllib3!=1.25.0,!=1.25.1,<1.26,>=1.21.1 in /usr/local/lib/python3.7/dist-packages (from requests->pennylane) (1.24.3)\n",
            "Collecting rustworkx==0.12.1\n",
            "  Downloading rustworkx-0.12.1-cp37-cp37m-manylinux_2_17_x86_64.manylinux2014_x86_64.whl (1.9 MB)\n",
            "\u001b[K     |████████████████████████████████| 1.9 MB 13.7 MB/s \n",
            "\u001b[?25hInstalling collected packages: rustworkx, ninja, semantic-version, retworkx, pennylane-lightning, autoray, pennylane\n",
            "Successfully installed autoray-0.5.2 ninja-1.11.1 pennylane-0.27.0 pennylane-lightning-0.27.0 retworkx-0.12.1 rustworkx-0.12.1 semantic-version-2.10.0\n",
            "Looking in indexes: https://pypi.org/simple, https://us-python.pkg.dev/colab-wheels/public/simple/\n",
            "Collecting unrar\n",
            "  Downloading unrar-0.4-py3-none-any.whl (25 kB)\n",
            "Installing collected packages: unrar\n",
            "Successfully installed unrar-0.4\n"
          ]
        }
      ],
      "source": [
        "\n",
        "import os\n",
        "import matplotlib as mpl\n",
        "import matplotlib.pyplot as plt\n",
        "from matplotlib.colors import ListedColormap\n",
        "import numpy as np\n",
        "import pandas as pd\n",
        "import random\n",
        "\n",
        "# Pytorch framework\n",
        "import torch\n",
        "from torch import nn\n",
        "from torch.autograd import Variable\n",
        "from torch import optim\n",
        "\n",
        "# time libraries\n",
        "from tqdm.notebook import trange\n",
        "from time import time\n",
        "\n",
        "# dataset libraries\n",
        "from sklearn import datasets as ds\n",
        "from sklearn.model_selection import train_test_split\n",
        "from sklearn.preprocessing import MinMaxScaler\n",
        "\n",
        "# Pennylane QML library\n",
        "!pip install pennylane\n",
        "!pip install unrar \n",
        "import pennylane as qml\n",
        "from pennylane import numpy as np\n",
        "\n",
        "\n",
        "# Seed\n",
        "seed = 100\n",
        "torch.manual_seed(seed)\n",
        "torch.cuda.manual_seed(seed)\n",
        "torch.cuda.manual_seed_all(seed)\n",
        "np.random.seed(seed)\n",
        "random.seed(seed)\n",
        "torch.backends.cudnn.benchmark = False\n",
        "torch.backends.cudnn.deterministic = True"
      ],
      "id": "71074304"
    },
    {
      "cell_type": "code",
      "execution_count": null,
      "metadata": {
        "colab": {
          "base_uri": "https://localhost:8080/"
        },
        "id": "598dee26",
        "outputId": "b5093afa-668a-4342-bdbc-847a0fe68851"
      },
      "outputs": [
        {
          "output_type": "execute_result",
          "data": {
            "text/plain": [
              "0.88"
            ]
          },
          "metadata": {},
          "execution_count": 2
        }
      ],
      "source": [
        "from sklearn.neural_network import MLPClassifier\n",
        "from sklearn.datasets import make_classification\n",
        "from sklearn.model_selection import train_test_split\n",
        "X, y = make_classification(n_samples=100, random_state=1)\n",
        "X_train, X_test, y_train, y_test = train_test_split(X, y, stratify=y,\n",
        "                                                     random_state=1)\n",
        "clf = MLPClassifier(random_state=1, max_iter=300).fit(X_train, y_train)\n",
        "clf.predict_proba(X_test[:1])\n",
        "\n",
        "clf.predict(X_test[:5, :])\n",
        "\n",
        "clf.score(X_test, y_test)"
      ],
      "id": "598dee26"
    },
    {
      "cell_type": "code",
      "execution_count": null,
      "metadata": {
        "id": "cedcb514"
      },
      "outputs": [],
      "source": [
        "\n",
        "from datetime import datetime\n"
      ],
      "id": "cedcb514"
    },
    {
      "cell_type": "code",
      "execution_count": null,
      "metadata": {
        "colab": {
          "base_uri": "https://localhost:8080/",
          "height": 483
        },
        "id": "6f2d2322",
        "outputId": "17ab7a58-0539-4330-b935-fa1f0f14e9b0"
      },
      "outputs": [
        {
          "output_type": "display_data",
          "data": {
            "text/plain": [
              "<Figure size 576x576 with 1 Axes>"
            ],
            "image/png": "[encoded data removed]"
          },
          "metadata": {
            "needs_background": "light"
          }
        }
      ],
      "source": [
        "fig = plt.figure(figsize=(8, 8))\n",
        "n_noise = 0.8\n",
        "moon_data, moon_labels = ds.make_moons(1000, shuffle=True, noise=n_noise, random_state=42)\n",
        "moon_data = MinMaxScaler().fit_transform(moon_data)\n",
        "\n",
        "plt.scatter(moon_data[moon_labels == 0][:,0], moon_data[moon_labels == 0][:,1], label='0')\n",
        "plt.scatter(moon_data[moon_labels == 1][:,0], moon_data[moon_labels == 1][:,1], label='1')\n",
        "# plt.savefig('circles_data.pdf', bbox_inches='tight')\n",
        "plt.show()"
      ],
      "id": "6f2d2322"
    },
    {
      "cell_type": "code",
      "execution_count": null,
      "metadata": {
        "colab": {
          "base_uri": "https://localhost:8080/"
        },
        "id": "631a379b",
        "outputId": "dbff73f5-a36e-457c-dd61-5e7c407c45b3"
      },
      "outputs": [
        {
          "output_type": "stream",
          "name": "stdout",
          "text": [
            "X_train shape: (800, 2)\n",
            "y_train shape: (800, 1)\n",
            "\n",
            "\n",
            "X_test shape: (200, 2)\n",
            "y_test shape: (200, 1)\n"
          ]
        }
      ],
      "source": [
        "X_train, X_test, y_train, y_test = train_test_split(moon_data, moon_labels, test_size=0.2, random_state=42)\n",
        "y_train = y_train.reshape(-1, 1)\n",
        "y_test = y_test.reshape(-1, 1)\n",
        "\n",
        "X_train, y_train = X_train, y_train\n",
        "print(f'X_train shape: {X_train.shape}')\n",
        "print(f'y_train shape: {y_train.shape}')\n",
        "print('\\n')\n",
        "X_test, y_test = X_test, y_test\n",
        "print(f'X_test shape: {X_test.shape}')\n",
        "print(f'y_test shape: {y_test.shape}')\n"
      ],
      "id": "631a379b"
    },
    {
      "cell_type": "code",
      "execution_count": null,
      "metadata": {
        "colab": {
          "base_uri": "https://localhost:8080/"
        },
        "id": "12966d9d",
        "outputId": "79dc08da-b4db-4b95-e862-4a27add2b97e"
      },
      "outputs": [
        {
          "output_type": "stream",
          "name": "stdout",
          "text": [
            " rbf : 0.755\n",
            " linear : 0.74875\n",
            " poly : 0.71375\n",
            " sigm : 0.50625\n"
          ]
        }
      ],
      "source": [
        "from sklearn.svm import SVC\n",
        "import warnings\n",
        "warnings.filterwarnings('ignore')\n",
        "model = SVC(kernel = 'rbf').fit(X_train, y_train)\n",
        "model1 = SVC(kernel = 'linear').fit(X_train, y_train)\n",
        "model2 = SVC(kernel = 'poly').fit(X_train, y_train)\n",
        "model3 = SVC(kernel = 'sigmoid').fit(X_train, y_train)\n",
        "#model4 = SVC(kernel = 'precomputed').fit(X_train, y_train) not working\n",
        "print(\" rbf :\", model.score(X_train, y_train))\n",
        "print(\" linear :\",model1.score(X_train, y_train))\n",
        "print(\" poly :\",model2.score(X_train, y_train))\n",
        "print(\" sigm :\",model3.score(X_train, y_train))\n",
        "#print(\" prec :\",model4.score(X_train, y_train))#"
      ],
      "id": "12966d9d"
    },
    {
      "cell_type": "markdown",
      "metadata": {
        "id": "Oxd02Swz7YmK"
      },
      "source": [
        "rbf best for moons!"
      ],
      "id": "Oxd02Swz7YmK"
    },
    {
      "cell_type": "code",
      "execution_count": null,
      "metadata": {
        "colab": {
          "base_uri": "https://localhost:8080/"
        },
        "id": "aKzMqJBJ5jIb",
        "outputId": "08327ea2-255a-4314-9b3c-c0f5186bf067"
      },
      "outputs": [
        {
          "output_type": "stream",
          "name": "stdout",
          "text": [
            "0.68\n"
          ]
        }
      ],
      "source": [
        "y_p = model.predict(X_test)\n",
        "print(model.score(X_test, y_test))"
      ],
      "id": "aKzMqJBJ5jIb"
    },
    {
      "cell_type": "markdown",
      "metadata": {
        "id": "RmxVf1Dn6IEc"
      },
      "source": [
        "Best svc score = **-- %**"
      ],
      "id": "RmxVf1Dn6IEc"
    },
    {
      "cell_type": "code",
      "execution_count": null,
      "metadata": {
        "id": "9525b633"
      },
      "outputs": [],
      "source": [
        "def train(model, X_train, y_train, X_test, y_test, loss_func, optimizer, num_epochs, batch_size, device):\n",
        "    train_losses = []\n",
        "    test_accuracy = []\n",
        "    best_acc = 0\n",
        "    model.eval() #j\n",
        "    with torch.no_grad():\n",
        "        inputs = torch.FloatTensor(X_test).to(device)\n",
        "        labels = torch.FloatTensor(y_test).to(device)\n",
        "        inputs, labels = Variable(inputs), Variable(labels)\n",
        "        outputs = model(inputs)\n",
        "        acc = ((outputs >= 0.5) == labels).sum().item()*(100/len(labels))\n",
        "        test_accuracy.append(acc)\n",
        "        print(\"Test acc:\", acc)\n",
        "    for epoch in range(num_epochs):\n",
        "        model.train()\n",
        "        train_loss = 0\n",
        "        num_batches = len(X_train)//batch_size\n",
        "        indices = np.arange(len(X_train))\n",
        "        indices_permuated = np.random.permutation(indices)\n",
        "        X_train_permuated = X_train[indices_permuated,:]\n",
        "        y_train_permuated = y_train[indices_permuated,:]\n",
        "\n",
        "        for batch in range(num_batches):\n",
        "            X_batch = torch.FloatTensor(X_train_permuated[batch*batch_size:(batch+1)*batch_size]).to(device)\n",
        "            y_batch = torch.FloatTensor(y_train_permuated[batch*batch_size:(batch+1)*batch_size]).to(device)\n",
        "            X_batch, y_batch = Variable(X_batch), Variable(y_batch)\n",
        "            y_pred = model(X_batch)\n",
        "            loss = loss_func(y_pred, y_batch)\n",
        "            optimizer.zero_grad()\n",
        "            loss.backward()\n",
        "            optimizer.step()\n",
        "            train_loss = train_loss + loss.item()\n",
        "  \n",
        "\n",
        "\n",
        "        model.eval()\n",
        "        with torch.no_grad():\n",
        "            inputs = torch.FloatTensor(X_test).to(device)\n",
        "            labels = torch.FloatTensor(y_test).to(device)\n",
        "            inputs, labels = Variable(inputs), Variable(labels)\n",
        "            outputs = model(inputs)\n",
        "            acc = ((outputs >= 0.5) == labels).sum().item()*(100/len(labels))\n",
        "            test_accuracy.append(acc)\n",
        "            #train_losses.append()\n",
        "        if (acc > best_acc): best_acc = acc\n",
        "    return train_losses, test_accuracy"
      ],
      "id": "9525b633"
    },
    {
      "cell_type": "code",
      "execution_count": null,
      "metadata": {
        "id": "9IZpqAkZQgM-"
      },
      "outputs": [],
      "source": [
        "neirons = 100"
      ],
      "id": "9IZpqAkZQgM-"
    },
    {
      "cell_type": "code",
      "execution_count": null,
      "metadata": {
        "id": "854236bb"
      },
      "outputs": [],
      "source": [
        "class MLP(nn.Module):\n",
        "    def __init__(self):\n",
        "        super(MLP, self).__init__()\n",
        "        \n",
        "        self.layers = nn.Sequential(\n",
        "                                    nn.Linear(2, neirons),\n",
        "                                    nn.ReLU(),\n",
        "                                    nn.Linear(neirons, 1),\n",
        "                                    nn.Sigmoid()\n",
        "                                    )\n",
        "\n",
        "    def forward(self, inputs):\n",
        "        return self.layers(inputs)"
      ],
      "id": "854236bb"
    },
    {
      "cell_type": "code",
      "execution_count": null,
      "metadata": {
        "colab": {
          "base_uri": "https://localhost:8080/"
        },
        "id": "de5b5225",
        "outputId": "9c8d5aca-1a1e-4799-8664-e385623207ce"
      },
      "outputs": [
        {
          "output_type": "stream",
          "name": "stdout",
          "text": [
            "\n",
            "\n"
          ]
        }
      ],
      "source": [
        "# Hyperparameters\n",
        "\n",
        "print('\\n')\n",
        "num_epochs = 80\n",
        "mlp_num_epochs = num_epochs\n",
        "batch_size = 30\n",
        "\n",
        "# Get cpu or gpu device for training.\n",
        "device = \"cuda\" if torch.cuda.is_available() else \"cpu\""
      ],
      "id": "de5b5225"
    },
    {
      "cell_type": "code",
      "execution_count": null,
      "metadata": {
        "colab": {
          "base_uri": "https://localhost:8080/"
        },
        "id": "8aa0813c",
        "outputId": "8f22d33d-7016-4dd4-9d49-392e8f6d0f00"
      },
      "outputs": [
        {
          "output_type": "stream",
          "name": "stdout",
          "text": [
            "MLP(\n",
            "  (layers): Sequential(\n",
            "    (0): Linear(in_features=2, out_features=1, bias=True)\n",
            "    (1): ReLU()\n",
            "    (2): Linear(in_features=1, out_features=1, bias=True)\n",
            "    (3): Sigmoid()\n",
            "  )\n",
            ")\n"
          ]
        }
      ],
      "source": [
        "print(MLP().to(device))"
      ],
      "id": "8aa0813c"
    },
    {
      "cell_type": "code",
      "execution_count": null,
      "metadata": {
        "colab": {
          "base_uri": "https://localhost:8080/"
        },
        "id": "9c52d4b8",
        "outputId": "4ac6029f-67a2-4b23-bf89-f1940ca4aceb"
      },
      "outputs": [
        {
          "output_type": "stream",
          "name": "stdout",
          "text": [
            "Test acc: 50.0\n",
            "CPU times: user 1.59 s, sys: 15.9 ms, total: 1.61 s\n",
            "Wall time: 1.77 s\n"
          ]
        }
      ],
      "source": [
        "%%time\n",
        "start_time = datetime.now()\n",
        "from IPython.display import clear_output \n",
        "train_losses_list = []\n",
        "train_acc_list = []\n",
        "\n",
        "\n",
        "MLP_model = MLP().to(device)\n",
        "loss_func = nn.BCELoss()\n",
        "optimizer = optim.AdamW(MLP_model.parameters(), lr=1e-2)  \n",
        "\n",
        "train_losses, test_accuracy = train(MLP_model, X_train, y_train, X_test, y_test, loss_func, optimizer, num_epochs, batch_size, device)\n",
        "mlp_time = (datetime.now() - start_time)\n",
        "\n"
      ],
      "id": "9c52d4b8"
    },
    {
      "cell_type": "code",
      "execution_count": null,
      "metadata": {
        "colab": {
          "base_uri": "https://localhost:8080/",
          "height": 374
        },
        "id": "1c18c850",
        "outputId": "30c06cae-a573-4c18-f932-564bb2c84463"
      },
      "outputs": [
        {
          "output_type": "stream",
          "name": "stdout",
          "text": [
            "Best acc: 0.5\n"
          ]
        },
        {
          "output_type": "display_data",
          "data": {
            "text/plain": [
              "<Figure size 576x360 with 1 Axes>"
            ],
            "image/png": "[encoded data removed]"
          },
          "metadata": {
            "needs_background": "light"
          }
        },
        {
          "output_type": "stream",
          "name": "stdout",
          "text": [
            "[]\n"
          ]
        }
      ],
      "source": [
        "# test accuracy print\n",
        "fig = plt.figure(figsize=(8, 5))\n",
        "\n",
        "plt.plot(np.array(test_accuracy)/100, label = 'classical')\n",
        "plt.plot(np.array(train_losses)/100, label = 'losses')\n",
        "print(\"Best acc:\", max(np.array(test_accuracy)/100))\n",
        "acc = max(np.array(test_accuracy)/100)\n",
        "plt.xlabel('Epochs', fontsize = 15)\n",
        "plt.ylabel('Test accuracy', fontsize = 15)\n",
        "plt.xlim((0, 80))\n",
        "plt.ylim((0, max(np.array(test_accuracy)/100)+0.05))\n",
        "plt.show()\n",
        "print(train_losses)"
      ],
      "id": "1c18c850"
    },
    {
      "cell_type": "markdown",
      "metadata": {
        "id": "f3eff4af"
      },
      "source": [
        "Quantum NN"
      ],
      "id": "f3eff4af"
    },
    {
      "cell_type": "markdown",
      "metadata": {
        "id": "xN1wxaxZ2Epp"
      },
      "source": [
        "все плохо"
      ],
      "id": "xN1wxaxZ2Epp"
    },
    {
      "cell_type": "code",
      "execution_count": null,
      "metadata": {
        "colab": {
          "base_uri": "https://localhost:8080/"
        },
        "id": "5ae93714",
        "outputId": "05d8d1a5-aeac-44b8-f1e2-610055cc235a"
      },
      "outputs": [
        {
          "output_type": "stream",
          "name": "stdout",
          "text": [
            "\n",
            "\n"
          ]
        }
      ],
      "source": [
        "# Hyperparameters\n",
        "\n",
        "print('\\n')\n",
        "num_epochs = 20\n",
        "q_num_epochs = num_epochs\n",
        "\n",
        "batch_size = 20\n",
        "q_batch_size = batch_size\n",
        "Q_depth = 1\n",
        "\n",
        "# Get cpu or gpu device for training.\n",
        "device = \"cuda\" if torch.cuda.is_available() else \"cpu\""
      ],
      "id": "5ae93714"
    },
    {
      "cell_type": "code",
      "execution_count": null,
      "metadata": {
        "id": "-UI_h09To0H6"
      },
      "outputs": [],
      "source": [
        "def H_layer(nqubits):\n",
        "    for idx in range(nqubits):\n",
        "        qml.Hadamard(wires=idx)\n",
        "\n",
        "\n",
        "def RX_layer(w):\n",
        "    for idx, element in enumerate(w):\n",
        "        qml.RX(element*np.pi, wires=idx)\n",
        "\n",
        "\n",
        "def entangling_layer(nqubits):\n",
        "    for i in range(0, nqubits - 1, 2):  \n",
        "        qml.CNOT(wires=[i, i + 1])\n",
        "    for i in range(1, nqubits - 1, 2): \n",
        "        qml.CNOT(wires=[i, i + 1])"
      ],
      "id": "-UI_h09To0H6"
    },
    {
      "cell_type": "code",
      "execution_count": null,
      "metadata": {
        "id": "de9b3038"
      },
      "outputs": [],
      "source": [
        "class QNN(nn.Module):\n",
        "    def __init__(self, num_qubits, c_device, q_device, diff_method):\n",
        "        super(QNN, self).__init__()\n",
        "\n",
        "        self.c_device = c_device\n",
        "\n",
        "        # init device\n",
        "        self.num_qubits = num_qubits\n",
        "        self.q_device = qml.device(q_device, wires=self.num_qubits)\n",
        "        \n",
        "        # quantum circuit\n",
        "        @qml.qnode(device =self.q_device, interface=\"torch\", diff_method=diff_method)\n",
        "\n",
        "        # needfull gates\n",
        "        def circuit(inputs, weights):\n",
        "\n",
        "          for i in range(self.num_qubits):\n",
        "            qml.Hadamard(wires = i)\n",
        "\n",
        "          qml.RX(np.pi*inputs[0], wires = 0)\n",
        "          qml.RX(np.pi*inputs[1], wires = 2)\n",
        "          qml.RZ(np.pi*inputs[0], wires = 0)\n",
        "          qml.RZ(np.pi*inputs[1], wires = 2)\n",
        "\n",
        "          for i in range(self.num_qubits-1):\n",
        "            qml.CNOT(wires = [i, i+1])\n",
        "          qml.CNOT(wires = [self.num_qubits-1, 0])\n",
        "          q_depth = Q_depth\n",
        "          for q in range(q_depth):\n",
        "            for i in range(self.num_qubits):\n",
        "              qml.RY(weights[i], wires = i)\n",
        "          return [qml.expval(qml.PauliZ(1)), qml.expval(qml.PauliZ(3)) ]\n",
        "        \n",
        "        weight_shapes = {\"weights\": self.num_qubits}\n",
        "        self.circuit = qml.qnn.TorchLayer(circuit, weight_shapes=weight_shapes)\n",
        "    \n",
        "    def draw(self):\n",
        "        # build circuit by sending dummy data through it\n",
        "        drawer = qml.draw(self.circuit.qnode, show_all_wires=True)\n",
        "        print(drawer(torch.zeros(self.num_qubits), np.random.rand(self.num_qubits)))\n",
        "    \n",
        "    def forward(self, inputs):\n",
        "        # Quantum node\n",
        "        batch_size,_ = inputs.size()\n",
        "        q_out = torch.zeros((batch_size,1))\n",
        "        q_out = Variable(q_out)\n",
        "        for i in range(batch_size):\n",
        "          q_res = self.circuit(inputs = inputs[i, :])\n",
        "          q_out[i] = ((torch.mean(q_res) + torch.Tensor([1.0]))/ 2.0).reshape(-1,1)\n",
        "        return q_out"
      ],
      "id": "de9b3038"
    },
    {
      "cell_type": "code",
      "execution_count": null,
      "metadata": {
        "colab": {
          "base_uri": "https://localhost:8080/"
        },
        "id": "W1svQRD6qL4K",
        "outputId": "aee4d8e5-0775-4e64-9061-286065e2643d"
      },
      "outputs": [
        {
          "output_type": "stream",
          "name": "stdout",
          "text": [
            "Test acc: 54.0\n",
            "CPU times: user 1min 23s, sys: 748 ms, total: 1min 24s\n",
            "Wall time: 1min 33s\n"
          ]
        }
      ],
      "source": [
        "%%time\n",
        "start_ttime = datetime.now()\n",
        "from IPython.display import clear_output \n",
        "q_train_losses_list = []\n",
        "q_train_acc_list = []\n",
        "\n",
        "\n",
        "n_qubits = 4\n",
        "\n",
        "QNN_model = QNN(num_qubits= n_qubits, c_device = device, q_device = \"lightning.qubit\", diff_method =\"adjoint\").to(device)\n",
        "loss_func = nn.BCELoss()\n",
        "optimizer = optim.AdamW(QNN_model.parameters(), lr=1e-2)\n",
        "\n",
        "\n",
        "q_train_losses, q_test_accuracy = train(QNN_model, X_train, y_train, X_test, y_test, loss_func, optimizer, num_epochs, batch_size, device)\n",
        "q_train_losses_list.append(q_train_losses)\n",
        "q_train_acc_list.append(q_test_accuracy)\n",
        "qnn_time = datetime.now()-start_ttime"
      ],
      "id": "W1svQRD6qL4K"
    },
    {
      "cell_type": "code",
      "execution_count": null,
      "metadata": {
        "colab": {
          "base_uri": "https://localhost:8080/",
          "height": 351
        },
        "id": "a137f007",
        "outputId": "be324cad-f4d8-4ca2-b4f9-001d12e0b08a"
      },
      "outputs": [
        {
          "output_type": "stream",
          "name": "stdout",
          "text": [
            "Best q_acc: 0.72\n"
          ]
        },
        {
          "output_type": "display_data",
          "data": {
            "text/plain": [
              "<Figure size 576x360 with 1 Axes>"
            ],
            "image/png": "[encoded data removed]"
          },
          "metadata": {
            "needs_background": "light"
          }
        }
      ],
      "source": [
        "# plot test accuracy\n",
        "fig = plt.figure(figsize=(8, 5))\n",
        "print(\"Best q_acc:\", max(np.array(q_test_accuracy)/100))\n",
        "q_acc =  max(np.array(q_test_accuracy)/100)\n",
        "plt.plot(np.array(q_train_acc_list[0])/100, label = 'QNN : ' + 'Epochs:' + str(num_epochs) + \"\\n\" + 'Q_Depth:' + str(Q_depth) + \"\\n\" + 'Qubits:' + str(n_qubits))\n",
        "dx = 5\n",
        "plt.xlim((0, 15))\n",
        "plt.xlabel('Epochs')\n",
        "plt.ylabel('Test accuracy')\n",
        "plt.legend()\n",
        "\n",
        "plt.show()"
      ],
      "id": "a137f007"
    },
    {
      "cell_type": "code",
      "execution_count": null,
      "metadata": {
        "colab": {
          "base_uri": "https://localhost:8080/"
        },
        "id": "5b67ebfb",
        "outputId": "850f806e-7a1e-4703-c4ca-f76483cf7b21"
      },
      "outputs": [
        {
          "output_type": "stream",
          "name": "stdout",
          "text": [
            "0: ──H──RX(0.00)──RZ(0.00)─╭●───────╭X──RY(0.15)─┤     \n",
            "1: ──H─────────────────────╰X─╭●────│───RY(0.58)─┤  <Z>\n",
            "2: ──H──RX(0.00)──RZ(0.00)────╰X─╭●─│───RY(0.81)─┤     \n",
            "3: ──H───────────────────────────╰X─╰●──RY(0.58)─┤  <Z>\n"
          ]
        }
      ],
      "source": [
        "# quantum circuit\n",
        "QNN(4, \"cpu\", \"default.qubit\", diff_method = \"adjoint\").draw()"
      ],
      "id": "5b67ebfb"
    },
    {
      "cell_type": "code",
      "execution_count": null,
      "metadata": {
        "id": "30971768"
      },
      "outputs": [],
      "source": [
        "def info(n_type, amount_cu, amount_e, time, d_noise, best_acc):\n",
        "  print(\n",
        "                    \"Type: {} Amount of computing units: {} Anount of epoch: {} Training time: {} Dataset noise: {} Bedt accuracy: {}\".format(\n",
        "                        n_type,\n",
        "                        amount_cu,\n",
        "                        amount_e,\n",
        "                        time,\n",
        "                        d_noise,\n",
        "                       best_acc,\n",
        "                    ),\n",
        "                    end=\"\\n\",\n",
        "                )"
      ],
      "id": "30971768"
    },
    {
      "cell_type": "code",
      "execution_count": null,
      "metadata": {
        "colab": {
          "base_uri": "https://localhost:8080/"
        },
        "id": "EJyQBvqMO3VK",
        "outputId": "0027f936-703e-4d70-96b2-1ed63059b0d7"
      },
      "outputs": [
        {
          "output_type": "stream",
          "name": "stdout",
          "text": [
            "Type: QNN Amount of computing units: 4 Anount of epoch: 20 Training time: 0:01:33.637790 Dataset noise: 0.8 Bedt accuracy: 0.72\n",
            "Type: MLP Amount of computing units: 1 Anount of epoch: 80 Training time: 0:00:01.774788 Dataset noise: 0.8 Bedt accuracy: 0.5\n"
          ]
        }
      ],
      "source": [
        "info(\"QNN\", n_qubits, q_num_epochs, qnn_time, n_noise, q_acc)\n",
        "info(\"MLP\", neirons , mlp_num_epochs, mlp_time, n_noise, acc)"
      ],
      "id": "EJyQBvqMO3VK"
    },
    {
      "cell_type": "code",
      "execution_count": null,
      "metadata": {
        "colab": {
          "base_uri": "https://localhost:8080/"
        },
        "id": "CTFj7oma7DTr",
        "outputId": "ea28b37b-1159-4e81-99c0-f9d67c1a70d3"
      },
      "outputs": [
        {
          "output_type": "stream",
          "name": "stdout",
          "text": [
            "Looking in indexes: https://pypi.org/simple, https://us-python.pkg.dev/colab-wheels/public/simple/\n",
            "Collecting pylatexenc\n",
            "  Downloading pylatexenc-2.10.tar.gz (162 kB)\n",
            "\u001b[K     |████████████████████████████████| 162 kB 15.3 MB/s \n",
            "\u001b[?25hBuilding wheels for collected packages: pylatexenc\n",
            "  Building wheel for pylatexenc (setup.py) ... \u001b[?25l\u001b[?25hdone\n",
            "  Created wheel for pylatexenc: filename=pylatexenc-2.10-py3-none-any.whl size=136833 sha256=fcab70ba925b6c355e6d1bca7943ab3cc224db5f61cdf048254c3ba986b13fdc\n",
            "  Stored in directory: /root/.cache/pip/wheels/f1/8a/f5/33ee79d4473eb201b519fa40f989b842e373237395a3421f52\n",
            "Successfully built pylatexenc\n",
            "Installing collected packages: pylatexenc\n",
            "Successfully installed pylatexenc-2.10\n",
            "Looking in indexes: https://pypi.org/simple, https://us-python.pkg.dev/colab-wheels/public/simple/\n",
            "Collecting qiskit\n",
            "  Downloading qiskit-0.39.3.tar.gz (13 kB)\n",
            "Collecting qiskit-terra==0.22.3\n",
            "  Downloading qiskit_terra-0.22.3-cp37-cp37m-manylinux_2_17_x86_64.manylinux2014_x86_64.whl (4.8 MB)\n",
            "\u001b[K     |████████████████████████████████| 4.8 MB 16.2 MB/s \n",
            "\u001b[?25hCollecting qiskit-aer==0.11.1\n",
            "  Downloading qiskit_aer-0.11.1-cp37-cp37m-manylinux_2_17_x86_64.manylinux2014_x86_64.whl (19.2 MB)\n",
            "\u001b[K     |████████████████████████████████| 19.2 MB 1.3 MB/s \n",
            "\u001b[?25hCollecting qiskit-ibmq-provider==0.19.2\n",
            "  Downloading qiskit_ibmq_provider-0.19.2-py3-none-any.whl (240 kB)\n",
            "\u001b[K     |████████████████████████████████| 240 kB 60.6 MB/s \n",
            "\u001b[?25hRequirement already satisfied: numpy>=1.16.3 in /usr/local/lib/python3.7/dist-packages (from qiskit-aer==0.11.1->qiskit) (1.21.6)\n",
            "Requirement already satisfied: scipy>=1.0 in /usr/local/lib/python3.7/dist-packages (from qiskit-aer==0.11.1->qiskit) (1.7.3)\n",
            "Collecting requests-ntlm>=1.1.0\n",
            "  Downloading requests_ntlm-1.1.0-py2.py3-none-any.whl (5.7 kB)\n",
            "Requirement already satisfied: python-dateutil>=2.8.0 in /usr/local/lib/python3.7/dist-packages (from qiskit-ibmq-provider==0.19.2->qiskit) (2.8.2)\n",
            "Requirement already satisfied: requests>=2.19 in /usr/local/lib/python3.7/dist-packages (from qiskit-ibmq-provider==0.19.2->qiskit) (2.23.0)\n",
            "Collecting websockets>=10.0\n",
            "  Downloading websockets-10.4-cp37-cp37m-manylinux_2_5_x86_64.manylinux1_x86_64.manylinux_2_17_x86_64.manylinux2014_x86_64.whl (106 kB)\n",
            "\u001b[K     |████████████████████████████████| 106 kB 6.5 MB/s \n",
            "\u001b[?25hRequirement already satisfied: urllib3>=1.21.1 in /usr/local/lib/python3.7/dist-packages (from qiskit-ibmq-provider==0.19.2->qiskit) (1.24.3)\n",
            "Collecting websocket-client>=1.0.1\n",
            "  Downloading websocket_client-1.4.2-py3-none-any.whl (55 kB)\n",
            "\u001b[K     |████████████████████████████████| 55 kB 3.6 MB/s \n",
            "\u001b[?25hCollecting ply>=3.10\n",
            "  Downloading ply-3.11-py2.py3-none-any.whl (49 kB)\n",
            "\u001b[K     |████████████████████████████████| 49 kB 5.6 MB/s \n",
            "\u001b[?25hRequirement already satisfied: sympy>=1.3 in /usr/local/lib/python3.7/dist-packages (from qiskit-terra==0.22.3->qiskit) (1.7.1)\n",
            "Collecting tweedledum<2.0,>=1.1\n",
            "  Downloading tweedledum-1.1.1-cp37-cp37m-manylinux_2_12_x86_64.manylinux2010_x86_64.whl (943 kB)\n",
            "\u001b[K     |████████████████████████████████| 943 kB 64.8 MB/s \n",
            "\u001b[?25hRequirement already satisfied: typing-extensions in /usr/local/lib/python3.7/dist-packages (from qiskit-terra==0.22.3->qiskit) (4.1.1)\n",
            "Requirement already satisfied: psutil>=5 in /usr/local/lib/python3.7/dist-packages (from qiskit-terra==0.22.3->qiskit) (5.4.8)\n",
            "Collecting stevedore>=3.0.0\n",
            "  Downloading stevedore-3.5.2-py3-none-any.whl (50 kB)\n",
            "\u001b[K     |████████████████████████████████| 50 kB 6.6 MB/s \n",
            "\u001b[?25hCollecting shared-memory38\n",
            "  Downloading shared_memory38-0.1.2-cp37-cp37m-manylinux_2_5_x86_64.manylinux1_x86_64.whl (25 kB)\n",
            "Requirement already satisfied: retworkx>=0.11.0 in /usr/local/lib/python3.7/dist-packages (from qiskit-terra==0.22.3->qiskit) (0.12.1)\n",
            "Requirement already satisfied: importlib-metadata<5.0 in /usr/local/lib/python3.7/dist-packages (from qiskit-terra==0.22.3->qiskit) (4.13.0)\n",
            "Requirement already satisfied: dill>=0.3 in /usr/local/lib/python3.7/dist-packages (from qiskit-terra==0.22.3->qiskit) (0.3.6)\n",
            "Collecting symengine>=0.9\n",
            "  Downloading symengine-0.9.2-cp37-cp37m-manylinux2010_x86_64.whl (37.5 MB)\n",
            "\u001b[K     |████████████████████████████████| 37.5 MB 20 kB/s \n",
            "\u001b[?25hRequirement already satisfied: zipp>=0.5 in /usr/local/lib/python3.7/dist-packages (from importlib-metadata<5.0->qiskit-terra==0.22.3->qiskit) (3.10.0)\n",
            "Requirement already satisfied: six>=1.5 in /usr/local/lib/python3.7/dist-packages (from python-dateutil>=2.8.0->qiskit-ibmq-provider==0.19.2->qiskit) (1.15.0)\n",
            "Requirement already satisfied: chardet<4,>=3.0.2 in /usr/local/lib/python3.7/dist-packages (from requests>=2.19->qiskit-ibmq-provider==0.19.2->qiskit) (3.0.4)\n",
            "Requirement already satisfied: certifi>=2017.4.17 in /usr/local/lib/python3.7/dist-packages (from requests>=2.19->qiskit-ibmq-provider==0.19.2->qiskit) (2022.9.24)\n",
            "Requirement already satisfied: idna<3,>=2.5 in /usr/local/lib/python3.7/dist-packages (from requests>=2.19->qiskit-ibmq-provider==0.19.2->qiskit) (2.10)\n",
            "Collecting cryptography>=1.3\n",
            "  Downloading cryptography-38.0.4-cp36-abi3-manylinux_2_24_x86_64.whl (4.0 MB)\n",
            "\u001b[K     |████████████████████████████████| 4.0 MB 41.0 MB/s \n",
            "\u001b[?25hCollecting ntlm-auth>=1.0.2\n",
            "  Downloading ntlm_auth-1.5.0-py2.py3-none-any.whl (29 kB)\n",
            "Requirement already satisfied: cffi>=1.12 in /usr/local/lib/python3.7/dist-packages (from cryptography>=1.3->requests-ntlm>=1.1.0->qiskit-ibmq-provider==0.19.2->qiskit) (1.15.1)\n",
            "Requirement already satisfied: pycparser in /usr/local/lib/python3.7/dist-packages (from cffi>=1.12->cryptography>=1.3->requests-ntlm>=1.1.0->qiskit-ibmq-provider==0.19.2->qiskit) (2.21)\n",
            "Requirement already satisfied: rustworkx==0.12.1 in /usr/local/lib/python3.7/dist-packages (from retworkx>=0.11.0->qiskit-terra==0.22.3->qiskit) (0.12.1)\n",
            "Collecting pbr!=2.1.0,>=2.0.0\n",
            "  Downloading pbr-5.11.0-py2.py3-none-any.whl (112 kB)\n",
            "\u001b[K     |████████████████████████████████| 112 kB 66.8 MB/s \n",
            "\u001b[?25hRequirement already satisfied: mpmath>=0.19 in /usr/local/lib/python3.7/dist-packages (from sympy>=1.3->qiskit-terra==0.22.3->qiskit) (1.2.1)\n",
            "Building wheels for collected packages: qiskit\n",
            "  Building wheel for qiskit (setup.py) ... \u001b[?25l\u001b[?25hdone\n",
            "  Created wheel for qiskit: filename=qiskit-0.39.3-py3-none-any.whl size=12262 sha256=1a66ce551383d86a6607ecf39ff29311baa36f1ac080f57823f275c1a677805e\n",
            "  Stored in directory: /root/.cache/pip/wheels/b1/36/b2/6eb4e6a961c404dce1da09f558c3d69f2bb7eea75e253c0890\n",
            "Successfully built qiskit\n",
            "Installing collected packages: pbr, tweedledum, symengine, stevedore, shared-memory38, ply, ntlm-auth, cryptography, websockets, websocket-client, requests-ntlm, qiskit-terra, qiskit-ibmq-provider, qiskit-aer, qiskit\n",
            "Successfully installed cryptography-38.0.4 ntlm-auth-1.5.0 pbr-5.11.0 ply-3.11 qiskit-0.39.3 qiskit-aer-0.11.1 qiskit-ibmq-provider-0.19.2 qiskit-terra-0.22.3 requests-ntlm-1.1.0 shared-memory38-0.1.2 stevedore-3.5.2 symengine-0.9.2 tweedledum-1.1.1 websocket-client-1.4.2 websockets-10.4\n"
          ]
        }
      ],
      "source": [
        "!pip install pylatexenc\n",
        "import pylatexenc\n",
        "!pip install qiskit\n",
        "import matplotlib\n",
        "from qiskit import *\n",
        "from qiskit import QuantumCircuit, ClassicalRegister, QuantumRegister\n",
        "from qiskit.tools.visualization import circuit_drawer\n",
        "from qiskit.circuit import Parameter\n"
      ],
      "id": "CTFj7oma7DTr"
    },
    {
      "cell_type": "code",
      "execution_count": null,
      "metadata": {
        "colab": {
          "base_uri": "https://localhost:8080/"
        },
        "id": "h9d8xZFj7MqM",
        "outputId": "b618e650-3aa6-447f-fc1f-7e21554335e7"
      },
      "outputs": [
        {
          "output_type": "execute_result",
          "data": {
            "text/plain": [
              "<Figure size 688.597x325.08 with 1 Axes>"
            ],
            "image/png": "[encoded data removed]"
          },
          "metadata": {},
          "execution_count": 24
        }
      ],
      "source": [
        "x1 = Parameter('x1')\n",
        "x2 = Parameter('x2')\n",
        "circuit = QuantumCircuit(4, 4)\n",
        "circuit.h(range(4))\n",
        "circuit.rx(x1, 0)\n",
        "circuit.rz(x1, 0)\n",
        "circuit.rx(x2, 2)\n",
        "circuit.rz(x2, 2)\n",
        "circuit.cnot(0, 1)\n",
        "circuit.cnot(1, 2)\n",
        "circuit.cnot(2, 3)\n",
        "circuit.cnot(3, 0)\n",
        "circuit.y(0)\n",
        "circuit.y(3)\n",
        "circuit.y(2)\n",
        "circuit.y(1)\n",
        "circuit.y(1)\n",
        "\n",
        "circuit.measure(1, 1)\n",
        "circuit.measure(3, 3)\n",
        "circuit.draw('mpl')"
      ],
      "id": "h9d8xZFj7MqM"
    }
  ],
  "metadata": {
    "colab": {
      "provenance": [],
      "include_colab_link": true
    },
    "kernelspec": {
      "display_name": "Python 3 (ipykernel)",
      "language": "python",
      "name": "python3"
    },
    "language_info": {
      "codemirror_mode": {
        "name": "ipython",
        "version": 3
      },
      "file_extension": ".py",
      "mimetype": "text/x-python",
      "name": "python",
      "nbconvert_exporter": "python",
      "pygments_lexer": "ipython3",
      "version": "3.8.10"
    }
  },
  "nbformat": 4,
  "nbformat_minor": 5
}