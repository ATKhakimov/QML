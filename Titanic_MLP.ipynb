{
  "nbformat": 4,
  "nbformat_minor": 0,
  "metadata": {
    "colab": {
      "provenance": [],
      "toc_visible": true,
      "mount_file_id": "1KEQvaGj4l17KCbPZPPTUSOLIwQE8lreH",
      "authorship_tag": "ABX9TyM3DB4Fdj3OdVEcTiiDduDp",
      "include_colab_link": true
    },
    "kernelspec": {
      "name": "python3",
      "display_name": "Python 3"
    },
    "language_info": {
      "name": "python"
    }
  },
  "cells": [
    {
      "cell_type": "markdown",
      "metadata": {
        "id": "view-in-github",
        "colab_type": "text"
      },
      "source": [
        "<a href=\"https://colab.research.google.com/github/ATKhakimov/QML/blob/main/Titanic_MLP.ipynb\" target=\"_parent\"><img src=\"https://colab.research.google.com/assets/colab-badge.svg\" alt=\"Open In Colab\"/></a>"
      ]
    },
    {
      "cell_type": "code",
      "execution_count": 21,
      "metadata": {
        "id": "6NpHA9V84-Ew"
      },
      "outputs": [],
      "source": [
        "import pandas as pd\n",
        "from sklearn import preprocessing\n",
        "from sklearn.metrics import confusion_matrix, accuracy_score\n",
        "from sklearn.neural_network import MLPClassifier\n",
        "import random\n",
        "from warnings import filterwarnings\n",
        "filterwarnings(\"ignore\")"
      ]
    },
    {
      "cell_type": "code",
      "source": [
        "data_dir1 = \"/content/drive/MyDrive/dataset2/train.csv\"\n",
        "data_dir2 = \"/content/drive/MyDrive/dataset2/test.csv\""
      ],
      "metadata": {
        "id": "T5we-XlbO0GT"
      },
      "execution_count": 9,
      "outputs": []
    },
    {
      "cell_type": "markdown",
      "source": [
        "# Загрузка таблички\n"
      ],
      "metadata": {
        "id": "ZbRwfRUASGY2"
      }
    },
    {
      "cell_type": "code",
      "source": [
        "df = pd.read_csv(data_dir1)\n",
        "df = df.drop(['PassengerId', 'Name', 'Ticket', 'Cabin', 'Age'], axis=1)\n",
        "df.replace(to_replace=dict(female=0, male=1), inplace=True)\n",
        "df.replace(to_replace=dict(C=0, S=0.5, Q=1), inplace=True)\n",
        "dft = pd.read_csv(data_dir2)\n",
        "dft = dft.drop(['PassengerId', 'Name', 'Ticket', 'Cabin', 'Age'], axis=1)\n",
        "dft.replace(to_replace=dict(female=0, male=1), inplace=True)\n",
        "dft.replace(to_replace=dict(C=0, S=0.5, Q=1), inplace=True)\n",
        "df = df.fillna(1)\n",
        "dft = dft.fillna(1)"
      ],
      "metadata": {
        "id": "N1t_72C_SPFh"
      },
      "execution_count": 16,
      "outputs": []
    },
    {
      "cell_type": "code",
      "source": [
        "train = df.values\n",
        "scl = preprocessing.MinMaxScaler()\n",
        "df = pd.DataFrame(scl.fit_transform(train))\n",
        "test = dft.values\n",
        "dft = pd.DataFrame(scl.fit_transform(test))"
      ],
      "metadata": {
        "id": "JjhulK_YUOcg"
      },
      "execution_count": 17,
      "outputs": []
    },
    {
      "cell_type": "code",
      "source": [
        "x = df[df.columns[2:8]].values.tolist()\n",
        "y = df[df.columns[0:1]].values.tolist()\n",
        "x_t = dft[dft.columns[1:6]].values.tolist()\n",
        "y_t = [0]*418  "
      ],
      "metadata": {
        "id": "RiYwoeGKU1cs"
      },
      "execution_count": 18,
      "outputs": []
    },
    {
      "cell_type": "code",
      "source": [
        "\n",
        "mlp = MLPClassifier(hidden_layer_sizes=(100, 50, 100), activation='logistic', solver='lbfgs')\n",
        "mlp.fit(x, y) \n",
        "answer = mlp.predict(x)  \n",
        "accuracy = accuracy_score(y, answer)\n",
        "print(\"Итоговая точность:\" , accuracy)"
      ],
      "metadata": {
        "colab": {
          "base_uri": "https://localhost:8080/"
        },
        "id": "-Xx8umkPVDI1",
        "outputId": "4745c38c-bd49-481e-c721-e5b2e052dd8c"
      },
      "execution_count": 22,
      "outputs": [
        {
          "output_type": "stream",
          "name": "stdout",
          "text": [
            "Итоговая точность: 0.8125701459034792\n"
          ]
        }
      ]
    }
  ]
}